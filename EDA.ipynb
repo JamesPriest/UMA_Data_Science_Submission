{
 "cells": [
  {
   "cell_type": "code",
   "execution_count": 79,
   "metadata": {},
   "outputs": [],
   "source": [
    "import pandas as pd\n",
    "from ast import literal_eval\n",
    "import seaborn as sns\n",
    "import matplotlib.pyplot as plt"
   ]
  },
  {
   "cell_type": "code",
   "execution_count": 10,
   "metadata": {},
   "outputs": [],
   "source": [
    "df = pd.read_csv(\"data.csv\")\n",
    "df[df.columns[1]] = df[df.columns[1]].apply(lambda x : literal_eval(x))\n",
    "df[df.columns[12]] = df[df.columns[12]].apply(lambda x : literal_eval(x))\n",
    "df[df.columns[13]] = df[df.columns[13]].apply(lambda x : literal_eval(x))"
   ]
  },
  {
   "cell_type": "code",
   "execution_count": 12,
   "metadata": {},
   "outputs": [],
   "source": [
    "copyright_holders = df[\"copyrights_text\"]"
   ]
  },
  {
   "cell_type": "markdown",
   "metadata": {},
   "source": [
    "## Some songs have no copyright holder\n",
    "\n",
    "Not sure if this is a mistake or can happen but we aim to ignore these when we label"
   ]
  },
  {
   "cell_type": "code",
   "execution_count": 23,
   "metadata": {
    "collapsed": true,
    "jupyter": {
     "outputs_hidden": true
    }
   },
   "outputs": [
    {
     "data": {
      "text/plain": [
       "9874     []\n",
       "9878     []\n",
       "9974     []\n",
       "9978     []\n",
       "10074    []\n",
       "10078    []\n",
       "10174    []\n",
       "10178    []\n",
       "10274    []\n",
       "10278    []\n",
       "10374    []\n",
       "10378    []\n",
       "10474    []\n",
       "10478    []\n",
       "10574    []\n",
       "10578    []\n",
       "10674    []\n",
       "10678    []\n",
       "10774    []\n",
       "10778    []\n",
       "10874    []\n",
       "10878    []\n",
       "10974    []\n",
       "10978    []\n",
       "11074    []\n",
       "11078    []\n",
       "11174    []\n",
       "11178    []\n",
       "11274    []\n",
       "11278    []\n",
       "         ..\n",
       "35975    []\n",
       "35991    []\n",
       "36007    []\n",
       "36023    []\n",
       "36039    []\n",
       "36055    []\n",
       "36071    []\n",
       "36087    []\n",
       "36103    []\n",
       "36119    []\n",
       "36135    []\n",
       "36151    []\n",
       "36167    []\n",
       "36183    []\n",
       "36199    []\n",
       "36215    []\n",
       "36231    []\n",
       "36247    []\n",
       "36263    []\n",
       "36279    []\n",
       "36295    []\n",
       "36311    []\n",
       "36327    []\n",
       "36343    []\n",
       "36359    []\n",
       "36375    []\n",
       "36391    []\n",
       "36407    []\n",
       "36423    []\n",
       "36439    []\n",
       "Name: copyrights_text, Length: 300, dtype: object"
      ]
     },
     "execution_count": 23,
     "metadata": {},
     "output_type": "execute_result"
    }
   ],
   "source": [
    "copyright_holders[copyright_holders.apply(len)==0]"
   ]
  },
  {
   "cell_type": "markdown",
   "metadata": {},
   "source": [
    "### One example:"
   ]
  },
  {
   "cell_type": "code",
   "execution_count": 14,
   "metadata": {},
   "outputs": [
    {
     "data": {
      "text/plain": [
       "track_name                    Phase 09 - Sombrero\n",
       "artists                            [Solar Fields]\n",
       "in_australia                                False\n",
       "song_id                    0atOMgnZQ0bkSzDacwkKwB\n",
       "album_id                   64oJjdIQtrNWEMCplxiKu1\n",
       "duration (ms)                              343733\n",
       "explicit                                    False\n",
       "popularity                                      3\n",
       "song_type                                   track\n",
       "album_name                  Until We Meet the Sky\n",
       "label                             Ultimae Records\n",
       "album_popularity                                2\n",
       "copyrights_text                                []\n",
       "copyrights_flag                                []\n",
       "playlist_name       Songs To Test Headphones With\n",
       "Name: 9874, dtype: object"
      ]
     },
     "execution_count": 14,
     "metadata": {},
     "output_type": "execute_result"
    }
   ],
   "source": [
    "df.iloc[9874]"
   ]
  },
  {
   "cell_type": "markdown",
   "metadata": {},
   "source": [
    "### Label all UMG owned songs\n",
    "\n",
    "Do this by looking for either UMG or Universal in copyright holders text"
   ]
  },
  {
   "cell_type": "code",
   "execution_count": 18,
   "metadata": {},
   "outputs": [],
   "source": [
    "claimed_copyright = copyright_holders[copyright_holders.apply(len)!=0]\n",
    "# for idx, val in claimed_copyright.val:\n",
    "#     print(idx)"
   ]
  },
  {
   "cell_type": "code",
   "execution_count": 19,
   "metadata": {},
   "outputs": [],
   "source": [
    "idx_of_UMG_copyright = []\n",
    "for idx, copyright in zip(claimed_copyright.index, claimed_copyright.values):\n",
    "    for i in copyright:\n",
    "        if (\"UMG\" in i) or (\"Universal\" in i):\n",
    "            idx_of_UMG_copyright.append(idx)\n",
    "            break"
   ]
  },
  {
   "cell_type": "code",
   "execution_count": 24,
   "metadata": {},
   "outputs": [
    {
     "name": "stdout",
     "output_type": "stream",
     "text": [
      "%age of UMG owned songs: 10.67%\n"
     ]
    }
   ],
   "source": [
    "print(f\"Percentage of UMG owned songs: {copyright_holders[idx_of_UMG_copyright].shape[0]/copyright_holders.shape[0]*100:.2f}%\")"
   ]
  },
  {
   "cell_type": "markdown",
   "metadata": {},
   "source": [
    "This implies out of the scrape, Universal owns 10% of the scraped catalogue. This is much lower than the quoted 30%. This is most likely a product of the scrape not being a fair and random representative of the spotify catalogue. "
   ]
  },
  {
   "cell_type": "code",
   "execution_count": 21,
   "metadata": {},
   "outputs": [],
   "source": [
    "df['owned_by_UMG'] = [0]*len(df)\n",
    "for idx in idx_of_UMG_copyright:\n",
    "    # Most recently created column so it'll be at the end\n",
    "    df.iat[idx, -1] = 1"
   ]
  },
  {
   "cell_type": "markdown",
   "metadata": {},
   "source": [
    "# Analysis Post Labelling\n",
    "\n",
    "Now that we have labels, we can look at details between playlists about the UMG holdings\n",
    "\n",
    "### Questions to answer\n",
    "\n",
    "#### 1. Does universal own typically 30% of a playlist\n",
    "#### 2. Does universal have more popular songs?\n"
   ]
  },
  {
   "cell_type": "markdown",
   "metadata": {},
   "source": [
    "# Ownership"
   ]
  },
  {
   "cell_type": "code",
   "execution_count": 31,
   "metadata": {},
   "outputs": [],
   "source": [
    "percentage_owned = df.groupby(\"playlist_name\")['owned_by_UMG'].value_counts() /\n",
    "                    df.groupby(\"playlist_name\")['owned_by_UMG'].apply(len) * 100"
   ]
  },
  {
   "cell_type": "code",
   "execution_count": 73,
   "metadata": {
    "collapsed": true,
    "jupyter": {
     "outputs_hidden": true
    }
   },
   "outputs": [
    {
     "data": {
      "text/plain": [
       "playlist_name              owned_by_UMG\n",
       "#FlashbackFriday           0                94.000000\n",
       "                           1                 6.000000\n",
       "#Hotmess                   0                94.000000\n",
       "                           1                 6.000000\n",
       "#JazzAppreciationMonth     0                80.000000\n",
       "                           1                20.000000\n",
       "#MakeitHappen              0                94.000000\n",
       "                           1                 6.000000\n",
       "#SundayFunday              0                78.000000\n",
       "                           1                22.000000\n",
       "#ThrowbackThursday         0                85.000000\n",
       "                           1                15.000000\n",
       "'90s Baby Makers           0               100.000000\n",
       "(Descent) A Beginning      0                80.000000\n",
       "                           1                20.000000\n",
       "0110                       0                92.000000\n",
       "                           1                 8.000000\n",
       "101_FTB                    0                96.428571\n",
       "                           1                 3.571429\n",
       "1960                       0               100.000000\n",
       "1960s Nostalgia            0                91.428571\n",
       "                           1                 8.571429\n",
       "1961                       0               100.000000\n",
       "1962                       0               100.000000\n",
       "1963                       0               100.000000\n",
       "1964                       0               100.000000\n",
       "1965                       0               100.000000\n",
       "1966                       0               100.000000\n",
       "1967                       0               100.000000\n",
       "1968                       0               100.000000\n",
       "                                              ...    \n",
       "Yalla يلا                  0               100.000000\n",
       "Year In Metal 2015         0                87.500000\n",
       "                           1                12.500000\n",
       "Year in Metal 2014         0                87.500000\n",
       "                           1                12.500000\n",
       "Year in Metal 2016         0                87.500000\n",
       "                           1                12.500000\n",
       "Years & Years: Pride       0                93.000000\n",
       "                           1                 7.000000\n",
       "Yoga Acoustics             0               100.000000\n",
       "You & Me                   0                74.000000\n",
       "                           1                26.000000\n",
       "Your Daily Routine         0                87.500000\n",
       "                           1                12.500000\n",
       "Your Favorite Coffeehouse  0                94.000000\n",
       "                           1                 6.000000\n",
       "boys cast                  0                96.428571\n",
       "                           1                 3.571429\n",
       "braids                     0                96.428571\n",
       "                           1                 3.571429\n",
       "mint                       0                74.000000\n",
       "                           1                26.000000\n",
       "mint Acoustic              0                80.851064\n",
       "                           1                19.148936\n",
       "¡Viva Latino!              0                74.000000\n",
       "                           1                26.000000\n",
       "’80s Jam Session           0                80.851064\n",
       "                           1                19.148936\n",
       "群星報喜：屬雞歌手                  0                80.000000\n",
       "                           1                20.000000\n",
       "Name: owned_by_UMG, Length: 1608, dtype: float64"
      ]
     },
     "execution_count": 73,
     "metadata": {},
     "output_type": "execute_result"
    }
   ],
   "source": [
    "percentage_owned"
   ]
  },
  {
   "cell_type": "code",
   "execution_count": 80,
   "metadata": {},
   "outputs": [],
   "source": [
    "UMG = percentage_owned.iloc[percentage_owned.index.get_level_values('owned_by_UMG') == 1]"
   ]
  },
  {
   "cell_type": "code",
   "execution_count": 81,
   "metadata": {},
   "outputs": [
    {
     "data": {
      "text/plain": [
       "count    698.000000\n",
       "mean      12.873845\n",
       "std        7.460211\n",
       "min        2.000000\n",
       "25%        7.000000\n",
       "50%        8.695652\n",
       "75%       20.000000\n",
       "max       26.000000\n",
       "Name: owned_by_UMG, dtype: float64"
      ]
     },
     "execution_count": 81,
     "metadata": {},
     "output_type": "execute_result"
    }
   ],
   "source": [
    "UMG.describe()"
   ]
  },
  {
   "cell_type": "markdown",
   "metadata": {},
   "source": [
    "From these statistics we see that an average playlist will contain 12.87% ($\\pm$ 7.46) of Universal owned song"
   ]
  },
  {
   "cell_type": "code",
   "execution_count": 86,
   "metadata": {},
   "outputs": [
    {
     "data": {
      "text/plain": [
       "<matplotlib.axes._subplots.AxesSubplot at 0x7f1834363cc0>"
      ]
     },
     "execution_count": 86,
     "metadata": {},
     "output_type": "execute_result"
    },
    {
     "data": {
      "image/png": "[encoded data removed]",
      "text/plain": [
       "<Figure size 1080x720 with 1 Axes>"
      ]
     },
     "metadata": {
      "needs_background": "light"
     },
     "output_type": "display_data"
    }
   ],
   "source": [
    "plt.figure(figsize=(15,10))\n",
    "sns.distplot(UMG, bins=10)"
   ]
  },
  {
   "cell_type": "markdown",
   "metadata": {},
   "source": [
    "This looks distinctly bimodal so maybe the statistics aren't the best description. Here it looks like there are two distinct sets of data. One with an average of $\\sim 7\\%$ of UMG music and one with $\\sim 21\\%$ of music. A couple of reasons why this could possible exist:\n",
    "\n",
    "    1. Music labels may tend to sign similar acts (ones that align with their brand, and they think they can grow) and so as playlists tend to group like with like based on a persons preference this split may reflect that. Although that effect doesn't look to be strong due to the small seperation of the gaussians.\n",
    "    2. More data needs to be collected. This isn't actually representative of the overall dataset. This is the data pulled from spotify's generated playlist and thus not a typically sample of the user population\n",
    "\n",
    "\n",
    "Thus based on the current data, Universal **doesn't** typically owned 30% of a users playlist. An upper estimate for ownership is about $\\sim 21\\%$ as mentioned prior."
   ]
  },
  {
   "cell_type": "markdown",
   "metadata": {},
   "source": [
    "# Popularity\n",
    "\n",
    "When looking at whether a song is represented by Universal or a Universal subsidiary, is there a difference in popularity?"
   ]
  },
  {
   "cell_type": "code",
   "execution_count": 90,
   "metadata": {},
   "outputs": [
    {
     "data": {
      "text/html": [
       "<div>\n",
       "<style scoped>\n",
       "    .dataframe tbody tr th:only-of-type {\n",
       "        vertical-align: middle;\n",
       "    }\n",
       "\n",
       "    .dataframe tbody tr th {\n",
       "        vertical-align: top;\n",
       "    }\n",
       "\n",
       "    .dataframe thead th {\n",
       "        text-align: right;\n",
       "    }\n",
       "</style>\n",
       "<table border=\"1\" class=\"dataframe\">\n",
       "  <thead>\n",
       "    <tr style=\"text-align: right;\">\n",
       "      <th>owned_by_UMG</th>\n",
       "      <th>0</th>\n",
       "      <th>1</th>\n",
       "    </tr>\n",
       "  </thead>\n",
       "  <tbody>\n",
       "    <tr>\n",
       "      <th>count</th>\n",
       "      <td>43102.000000</td>\n",
       "      <td>5150.000000</td>\n",
       "    </tr>\n",
       "    <tr>\n",
       "      <th>mean</th>\n",
       "      <td>37.530787</td>\n",
       "      <td>43.009709</td>\n",
       "    </tr>\n",
       "    <tr>\n",
       "      <th>std</th>\n",
       "      <td>25.483023</td>\n",
       "      <td>29.261810</td>\n",
       "    </tr>\n",
       "    <tr>\n",
       "      <th>min</th>\n",
       "      <td>0.000000</td>\n",
       "      <td>0.000000</td>\n",
       "    </tr>\n",
       "    <tr>\n",
       "      <th>25%</th>\n",
       "      <td>7.000000</td>\n",
       "      <td>10.000000</td>\n",
       "    </tr>\n",
       "    <tr>\n",
       "      <th>50%</th>\n",
       "      <td>45.000000</td>\n",
       "      <td>50.000000</td>\n",
       "    </tr>\n",
       "    <tr>\n",
       "      <th>75%</th>\n",
       "      <td>56.000000</td>\n",
       "      <td>64.000000</td>\n",
       "    </tr>\n",
       "    <tr>\n",
       "      <th>max</th>\n",
       "      <td>93.000000</td>\n",
       "      <td>100.000000</td>\n",
       "    </tr>\n",
       "  </tbody>\n",
       "</table>\n",
       "</div>"
      ],
      "text/plain": [
       "owned_by_UMG             0            1\n",
       "count         43102.000000  5150.000000\n",
       "mean             37.530787    43.009709\n",
       "std              25.483023    29.261810\n",
       "min               0.000000     0.000000\n",
       "25%               7.000000    10.000000\n",
       "50%              45.000000    50.000000\n",
       "75%              56.000000    64.000000\n",
       "max              93.000000   100.000000"
      ]
     },
     "execution_count": 90,
     "metadata": {},
     "output_type": "execute_result"
    }
   ],
   "source": [
    "df.groupby(\"owned_by_UMG\").describe()['popularity'].T"
   ]
  },
  {
   "cell_type": "markdown",
   "metadata": {},
   "source": [
    "Here UMG appears to have have more popular songs based on the song data pulled"
   ]
  },
  {
   "cell_type": "code",
   "execution_count": 100,
   "metadata": {},
   "outputs": [
    {
     "data": {
      "text/plain": [
       "<matplotlib.axes._subplots.AxesSubplot at 0x7f1833d8cc50>"
      ]
     },
     "execution_count": 100,
     "metadata": {},
     "output_type": "execute_result"
    },
    {
     "data": {
      "image/png": "[encoded data removed]",
      "text/plain": [
       "<Figure size 1080x720 with 1 Axes>"
      ]
     },
     "metadata": {
      "needs_background": "light"
     },
     "output_type": "display_data"
    }
   ],
   "source": [
    "plt.figure(figsize=(15,10))\n",
    "sns.distplot(df[df['owned_by_UMG']==0]['popularity'])\n",
    "sns.distplot(df[df['owned_by_UMG']==1]['popularity'])"
   ]
  },
  {
   "cell_type": "markdown",
   "metadata": {},
   "source": [
    "Yes, there is a slight popularity boost with the artists owned by Universal. However this could be a chicken and the egg situation, does Universal tend to sign acts that are popular or do they sign acts they become popular. Also this could be a result of sample bias due to the fact that when scraping over spotify's top playlists. "
   ]
  },
  {
   "cell_type": "code",
   "execution_count": null,
   "metadata": {},
   "outputs": [],
   "source": []
  }
 ],
 "metadata": {
  "kernelspec": {
   "display_name": "uma",
   "language": "python",
   "name": "uma"
  },
  "language_info": {
   "codemirror_mode": {
    "name": "ipython",
    "version": 3
   },
   "file_extension": ".py",
   "mimetype": "text/x-python",
   "name": "python",
   "nbconvert_exporter": "python",
   "pygments_lexer": "ipython3",
   "version": "3.7.3"
  }
 },
 "nbformat": 4,
 "nbformat_minor": 4
}
